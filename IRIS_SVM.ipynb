{
 "cells": [
  {
   "cell_type": "code",
   "execution_count": 11,
   "metadata": {
    "collapsed": true
   },
   "outputs": [],
   "source": [
    "from sklearn import datasets\n",
    "import numpy as np\n",
    "from sklearn.svm import SVC\n",
    "import matplotlib.pyplot as plt\n",
    "\n",
    "#Load Data\n",
    "iris = datasets.load_iris()\n",
    "x = iris.data\n",
    "y = iris.target\n"
   ]
  },
  {
   "cell_type": "markdown",
   "metadata": {},
   "source": [
    "Data preprocessing: For this task we will only use 2 features out of the possible 4, feature 1 and 3:"
   ]
  },
  {
   "cell_type": "code",
   "execution_count": null,
   "metadata": {
    "collapsed": true
   },
   "outputs": [],
   "source": [
    "zipped=np.column_stack((x, y))\n",
    "zipped=list(map(lambda zipped: [zipped[0], zipped[2], zipped[-1]], zipped))\n",
    "zipped=[entry for entry in zipped if entry[-1]!=0.0]\n",
    "zipped=np.asarray(zipped)\n",
    "data_set=zipped[:,[0,1]]\n",
    "labels=zipped[:,[2]]"
   ]
  },
  {
   "cell_type": "markdown",
   "metadata": {},
   "source": [
    "Plot data to see if it is linearly separable:"
   ]
  },
  {
   "cell_type": "code",
   "execution_count": 104,
   "metadata": {},
   "outputs": [
    {
     "data": {
      "image/png": "[encoded data removed]",
      "text/plain": [
       "<Figure size 432x288 with 1 Axes>"
      ]
     },
     "metadata": {},
     "output_type": "display_data"
    }
   ],
   "source": [
    "l = len([val for val in labels if val ==1])\n",
    "\n",
    "a = data_set[:l]\n",
    "a1 = a.T[0]\n",
    "a2 = a.T[1]\n",
    "\n",
    "b = data_set[l:]\n",
    "b1 = b.T[0]\n",
    "b2 = b.T[1]\n",
    "\n",
    "plt.scatter(a1, a2, color=\"red\")\n",
    "plt.scatter(b1, b2, color=\"blue\")\n",
    "plt.grid()\n",
    "plt.show()\n",
    "# Plot the data set "
   ]
  },
  {
   "cell_type": "code",
   "execution_count": 105,
   "metadata": {},
   "outputs": [
    {
     "name": "stdout",
     "output_type": "stream",
     "text": [
      "[-2. -1.  1.]\n"
     ]
    }
   ],
   "source": [
    "def abline(slope, intercept):\n",
    "    \"\"\"Plot a line from slope and intercept\"\"\"\n",
    "    axes = plt.gca()\n",
    "    x_vals = np.array(axes.get_xlim())\n",
    "    y_vals = intercept + slope * x_vals\n",
    "    plt.plot(x_vals, y_vals, '--')\n",
    "\n",
    "print(np.subtract([2,3,5], 4.0))"
   ]
  },
  {
   "cell_type": "markdown",
   "metadata": {},
   "source": [
    "Use SVM to find the best coefficients for the line to separate data"
   ]
  },
  {
   "cell_type": "code",
   "execution_count": 131,
   "metadata": {},
   "outputs": [
    {
     "name": "stdout",
     "output_type": "stream",
     "text": [
      "  C \t | training error     |     number of support vectors\n",
      "0.001  \t, \t0.17\t\t, \t100\n",
      "0.01  \t, \t0.16\t\t, \t92\n",
      "0.1  \t, \t0.07\t\t, \t56\n",
      "1.0  \t, \t0.07\t\t, \t31\n",
      "10.0  \t, \t0.05\t\t, \t18\n",
      "100.0  \t, \t0.05\t\t, \t14\n",
      "1000.0  \t, \t0.05\t\t, \t14\n",
      "10000.0  \t, \t0.05\t\t, \t14\n",
      "100000.0  \t, \t0.06\t\t, \t14\n",
      "The Value of C with the minimum test error and minimum number of support vectors is: 100.0\n"
     ]
    }
   ],
   "source": [
    "import math\n",
    "\n",
    "d=dict()\n",
    "print('  C \\t | training error     |     number of support vectors')\n",
    "for i in range(-3,6,1):\n",
    "    \n",
    "    C=math.pow(10,i)\n",
    "    clf = SVC(C,kernel='linear')\n",
    "    clf.fit(data_set,labels.ravel())\n",
    "    error=1-clf.score(data_set, labels.ravel())\n",
    "    d[C]=(round(error,4),len(clf.support_vectors_))\n",
    "    print('{}  \\t, \\t{}\\t\\t, \\t{}'.format(C, d[C][0], d[C][1]))\n",
    "\n",
    "\n",
    "minimum_C=min(d, key=d.get)\n",
    "print(\"The Value of C with the minimum test error and minimum number of support vectors is:\", minimum_C)\n",
    "clf = SVC(minimum_C,kernel='linear')\n",
    "clf.fit(data_set,labels.ravel())\n",
    "\n",
    "\n",
    "w=clf.coef_[0]\n",
    "intercept=clf.intercept_[0]"
   ]
  },
  {
   "cell_type": "markdown",
   "metadata": {},
   "source": [
    "Plot the line that the algorithm found on the original dataset:"
   ]
  },
  {
   "cell_type": "code",
   "execution_count": 7,
   "metadata": {},
   "outputs": [
    {
     "data": {
      "image/png": "[encoded data removed]",
      "text/plain": [
       "<Figure size 432x288 with 1 Axes>"
      ]
     },
     "metadata": {},
     "output_type": "display_data"
    }
   ],
   "source": [
    "import matplotlib.pyplot as plt\n",
    "l = len([val for val in labels if val ==1])\n",
    "\n",
    "a = data_set[:l]\n",
    "a1 = a.T[0]\n",
    "a2 = a.T[1]\n",
    "\n",
    "b = data_set[l:]\n",
    "b1 = b.T[0]\n",
    "b2 = b.T[1]\n",
    "\n",
    "xdata = np.array(range(0, 10))\n",
    "ydata=(-w[0]/w[1])*xdata-intercept/w[1]\n",
    "plt.plot(xdata, ydata, color=\"blue\")\n",
    "\n",
    "plt.scatter(a1, a2, color=\"red\")\n",
    "plt.scatter(b1, b2, color=\"blue\")\n",
    "plt.grid()\n",
    "plt.show()\n",
    "\n"
   ]
  }
 ],
 "metadata": {
  "kernelspec": {
   "display_name": "Python 3",
   "language": "python",
   "name": "python3"
  },
  "language_info": {
   "codemirror_mode": {
    "name": "ipython",
    "version": 3
   },
   "file_extension": ".py",
   "mimetype": "text/x-python",
   "name": "python",
   "nbconvert_exporter": "python",
   "pygments_lexer": "ipython3",
   "version": "3.6.3"
  }
 },
 "nbformat": 4,
 "nbformat_minor": 2
}
